{
 "cells": [
  {
   "cell_type": "code",
   "execution_count": 15,
   "metadata": {
    "collapsed": true,
    "pycharm": {
     "name": "#%%\n"
    }
   },
   "outputs": [],
   "source": []
  },
  {
   "cell_type": "code",
   "execution_count": 16,
   "outputs": [
    {
     "data": {
      "text/plain": "  Freq Hz  M60 Tank idling at 30 meters  Whisper  Normal  Raised  Loud  \\\n1      63                          57.3     38.7    40.1    41.5  43.0   \n2      80                          60.9     40.7    42.1    43.5  45.0   \n3     100                          69.8     42.7    44.1    45.5  47.0   \n4     125                          68.2     44.7    46.1    47.5  49.0   \n5     160                          69.6     46.7    48.1    49.5  51.0   \n\n   Shouted  Idealized  Jungle Day  Jungle Night  ...  Avg REAT EAR form plug  \\\n1     38.5       48.4        34.0          38.0  ...                    35.0   \n2     40.5       50.4        33.0          35.0  ...                    35.0   \n3     42.5       52.4        30.0          33.0  ...                    35.0   \n4     44.5       54.4        28.0          30.5  ...                    35.0   \n5     46.5       56.4        27.5          28.0  ...                    35.0   \n\n   1/3 OB weights for masking bands to calculate critical bands centered on the middle of each group of five 1/3 octave bands  \\\n1                                            0.00000                                                                            \n2                                            0.30480                                                                            \n3                                            0.15210                                                                            \n4                                            0.07568                                                                            \n5                                            0.03776                                                                            \n\n   Unnamed: 30  Unnamed: 31  Unnamed: 32  Unnamed: 33  B3 Array for TSD calc  \\\n1       0.5333          1.0       0.6683      0.45000                  9.480   \n2       0.4355          1.0       0.5176      0.38460                  9.054   \n3       0.3565          1.0       0.3999      0.13210                  8.848   \n4       0.2917          1.0       0.3090      0.04539                  8.747   \n5       0.2388          1.0       0.2388      0.01560                  8.747   \n\n   Awt weights  Cwt weights  A.I. weights  \n1        -26.2         -0.8           0.0  \n2        -22.5         -0.5           0.0  \n3        -19.1         -0.3           0.0  \n4        -16.1         -0.2           0.0  \n5        -13.4         -0.1           0.0  \n\n[5 rows x 38 columns]",
      "text/html": "<div>\n<style scoped>\n    .dataframe tbody tr th:only-of-type {\n        vertical-align: middle;\n    }\n\n    .dataframe tbody tr th {\n        vertical-align: top;\n    }\n\n    .dataframe thead th {\n        text-align: right;\n    }\n</style>\n<table border=\"1\" class=\"dataframe\">\n  <thead>\n    <tr style=\"text-align: right;\">\n      <th></th>\n      <th>Freq Hz</th>\n      <th>M60 Tank idling at 30 meters</th>\n      <th>Whisper</th>\n      <th>Normal</th>\n      <th>Raised</th>\n      <th>Loud</th>\n      <th>Shouted</th>\n      <th>Idealized</th>\n      <th>Jungle Day</th>\n      <th>Jungle Night</th>\n      <th>...</th>\n      <th>Avg REAT EAR form plug</th>\n      <th>1/3 OB weights for masking bands to calculate critical bands centered on the middle of each group of five 1/3 octave bands</th>\n      <th>Unnamed: 30</th>\n      <th>Unnamed: 31</th>\n      <th>Unnamed: 32</th>\n      <th>Unnamed: 33</th>\n      <th>B3 Array for TSD calc</th>\n      <th>Awt weights</th>\n      <th>Cwt weights</th>\n      <th>A.I. weights</th>\n    </tr>\n  </thead>\n  <tbody>\n    <tr>\n      <th>1</th>\n      <td>63</td>\n      <td>57.3</td>\n      <td>38.7</td>\n      <td>40.1</td>\n      <td>41.5</td>\n      <td>43.0</td>\n      <td>38.5</td>\n      <td>48.4</td>\n      <td>34.0</td>\n      <td>38.0</td>\n      <td>...</td>\n      <td>35.0</td>\n      <td>0.00000</td>\n      <td>0.5333</td>\n      <td>1.0</td>\n      <td>0.6683</td>\n      <td>0.45000</td>\n      <td>9.480</td>\n      <td>-26.2</td>\n      <td>-0.8</td>\n      <td>0.0</td>\n    </tr>\n    <tr>\n      <th>2</th>\n      <td>80</td>\n      <td>60.9</td>\n      <td>40.7</td>\n      <td>42.1</td>\n      <td>43.5</td>\n      <td>45.0</td>\n      <td>40.5</td>\n      <td>50.4</td>\n      <td>33.0</td>\n      <td>35.0</td>\n      <td>...</td>\n      <td>35.0</td>\n      <td>0.30480</td>\n      <td>0.4355</td>\n      <td>1.0</td>\n      <td>0.5176</td>\n      <td>0.38460</td>\n      <td>9.054</td>\n      <td>-22.5</td>\n      <td>-0.5</td>\n      <td>0.0</td>\n    </tr>\n    <tr>\n      <th>3</th>\n      <td>100</td>\n      <td>69.8</td>\n      <td>42.7</td>\n      <td>44.1</td>\n      <td>45.5</td>\n      <td>47.0</td>\n      <td>42.5</td>\n      <td>52.4</td>\n      <td>30.0</td>\n      <td>33.0</td>\n      <td>...</td>\n      <td>35.0</td>\n      <td>0.15210</td>\n      <td>0.3565</td>\n      <td>1.0</td>\n      <td>0.3999</td>\n      <td>0.13210</td>\n      <td>8.848</td>\n      <td>-19.1</td>\n      <td>-0.3</td>\n      <td>0.0</td>\n    </tr>\n    <tr>\n      <th>4</th>\n      <td>125</td>\n      <td>68.2</td>\n      <td>44.7</td>\n      <td>46.1</td>\n      <td>47.5</td>\n      <td>49.0</td>\n      <td>44.5</td>\n      <td>54.4</td>\n      <td>28.0</td>\n      <td>30.5</td>\n      <td>...</td>\n      <td>35.0</td>\n      <td>0.07568</td>\n      <td>0.2917</td>\n      <td>1.0</td>\n      <td>0.3090</td>\n      <td>0.04539</td>\n      <td>8.747</td>\n      <td>-16.1</td>\n      <td>-0.2</td>\n      <td>0.0</td>\n    </tr>\n    <tr>\n      <th>5</th>\n      <td>160</td>\n      <td>69.6</td>\n      <td>46.7</td>\n      <td>48.1</td>\n      <td>49.5</td>\n      <td>51.0</td>\n      <td>46.5</td>\n      <td>56.4</td>\n      <td>27.5</td>\n      <td>28.0</td>\n      <td>...</td>\n      <td>35.0</td>\n      <td>0.03776</td>\n      <td>0.2388</td>\n      <td>1.0</td>\n      <td>0.2388</td>\n      <td>0.01560</td>\n      <td>8.747</td>\n      <td>-13.4</td>\n      <td>-0.1</td>\n      <td>0.0</td>\n    </tr>\n  </tbody>\n</table>\n<p>5 rows × 38 columns</p>\n</div>"
     },
     "execution_count": 16,
     "metadata": {},
     "output_type": "execute_result"
    }
   ],
   "source": [
    "from sklearn.tree import DecisionTreeClassifier\n",
    "from sklearn.neighbors import KNeighborsClassifier\n",
    "import pandas as pd\n",
    "import numpy as np\n",
    "df = pd.read_csv(\"admClean.csv\").dropna()\n",
    "df.head()"
   ],
   "metadata": {
    "collapsed": false,
    "pycharm": {
     "name": "#%%\n"
    }
   }
  },
  {
   "cell_type": "markdown",
   "source": [
    "Test Normal against the other four Whisper, Raised, Loud, and Shouted."
   ],
   "metadata": {
    "collapsed": false,
    "pycharm": {
     "name": "#%% md\n"
    }
   }
  },
  {
   "cell_type": "code",
   "execution_count": 17,
   "outputs": [],
   "source": [
    "from sklearn.model_selection import train_test_split\n",
    "from sklearn.linear_model import LogisticRegression\n",
    "\n",
    "features = ['Whisper', 'Raised', 'Loud', 'Shouted']\n",
    "X = df[features]\n",
    "y = df['Normal']\n",
    "\n",
    "X_train, X_test, y_train, y_test = train_test_split(X, y, test_size=0.35, random_state=3)"
   ],
   "metadata": {
    "collapsed": false,
    "pycharm": {
     "name": "#%%\n"
    }
   }
  },
  {
   "cell_type": "code",
   "execution_count": 18,
   "outputs": [
    {
     "ename": "ValueError",
     "evalue": "Unknown label type: 'continuous'",
     "output_type": "error",
     "traceback": [
      "\u001B[0;31m---------------------------------------------------------------------------\u001B[0m",
      "\u001B[0;31mValueError\u001B[0m                                Traceback (most recent call last)",
      "Input \u001B[0;32mIn [18]\u001B[0m, in \u001B[0;36m<cell line: 2>\u001B[0;34m()\u001B[0m\n\u001B[1;32m      1\u001B[0m logreg \u001B[38;5;241m=\u001B[39m LogisticRegression()\n\u001B[0;32m----> 2\u001B[0m \u001B[43mlogreg\u001B[49m\u001B[38;5;241;43m.\u001B[39;49m\u001B[43mfit\u001B[49m\u001B[43m(\u001B[49m\u001B[43mX_train\u001B[49m\u001B[43m,\u001B[49m\u001B[43m \u001B[49m\u001B[43my_train\u001B[49m\u001B[43m)\u001B[49m\n\u001B[1;32m      4\u001B[0m logreg\u001B[38;5;241m.\u001B[39mfit(X, y)\n\u001B[1;32m      5\u001B[0m logreg\u001B[38;5;241m.\u001B[39mfit(X_train, y_train)\n",
      "File \u001B[0;32m~/opt/anaconda3/lib/python3.9/site-packages/sklearn/linear_model/_logistic.py:1146\u001B[0m, in \u001B[0;36mLogisticRegression.fit\u001B[0;34m(self, X, y, sample_weight)\u001B[0m\n\u001B[1;32m   1136\u001B[0m     _dtype \u001B[38;5;241m=\u001B[39m [np\u001B[38;5;241m.\u001B[39mfloat64, np\u001B[38;5;241m.\u001B[39mfloat32]\n\u001B[1;32m   1138\u001B[0m X, y \u001B[38;5;241m=\u001B[39m \u001B[38;5;28mself\u001B[39m\u001B[38;5;241m.\u001B[39m_validate_data(\n\u001B[1;32m   1139\u001B[0m     X,\n\u001B[1;32m   1140\u001B[0m     y,\n\u001B[0;32m   (...)\u001B[0m\n\u001B[1;32m   1144\u001B[0m     accept_large_sparse\u001B[38;5;241m=\u001B[39msolver \u001B[38;5;129;01mnot\u001B[39;00m \u001B[38;5;129;01min\u001B[39;00m [\u001B[38;5;124m\"\u001B[39m\u001B[38;5;124mliblinear\u001B[39m\u001B[38;5;124m\"\u001B[39m, \u001B[38;5;124m\"\u001B[39m\u001B[38;5;124msag\u001B[39m\u001B[38;5;124m\"\u001B[39m, \u001B[38;5;124m\"\u001B[39m\u001B[38;5;124msaga\u001B[39m\u001B[38;5;124m\"\u001B[39m],\n\u001B[1;32m   1145\u001B[0m )\n\u001B[0;32m-> 1146\u001B[0m \u001B[43mcheck_classification_targets\u001B[49m\u001B[43m(\u001B[49m\u001B[43my\u001B[49m\u001B[43m)\u001B[49m\n\u001B[1;32m   1147\u001B[0m \u001B[38;5;28mself\u001B[39m\u001B[38;5;241m.\u001B[39mclasses_ \u001B[38;5;241m=\u001B[39m np\u001B[38;5;241m.\u001B[39munique(y)\n\u001B[1;32m   1149\u001B[0m multi_class \u001B[38;5;241m=\u001B[39m _check_multi_class(\u001B[38;5;28mself\u001B[39m\u001B[38;5;241m.\u001B[39mmulti_class, solver, \u001B[38;5;28mlen\u001B[39m(\u001B[38;5;28mself\u001B[39m\u001B[38;5;241m.\u001B[39mclasses_))\n",
      "File \u001B[0;32m~/opt/anaconda3/lib/python3.9/site-packages/sklearn/utils/multiclass.py:200\u001B[0m, in \u001B[0;36mcheck_classification_targets\u001B[0;34m(y)\u001B[0m\n\u001B[1;32m    192\u001B[0m y_type \u001B[38;5;241m=\u001B[39m type_of_target(y, input_name\u001B[38;5;241m=\u001B[39m\u001B[38;5;124m\"\u001B[39m\u001B[38;5;124my\u001B[39m\u001B[38;5;124m\"\u001B[39m)\n\u001B[1;32m    193\u001B[0m \u001B[38;5;28;01mif\u001B[39;00m y_type \u001B[38;5;129;01mnot\u001B[39;00m \u001B[38;5;129;01min\u001B[39;00m [\n\u001B[1;32m    194\u001B[0m     \u001B[38;5;124m\"\u001B[39m\u001B[38;5;124mbinary\u001B[39m\u001B[38;5;124m\"\u001B[39m,\n\u001B[1;32m    195\u001B[0m     \u001B[38;5;124m\"\u001B[39m\u001B[38;5;124mmulticlass\u001B[39m\u001B[38;5;124m\"\u001B[39m,\n\u001B[0;32m   (...)\u001B[0m\n\u001B[1;32m    198\u001B[0m     \u001B[38;5;124m\"\u001B[39m\u001B[38;5;124mmultilabel-sequences\u001B[39m\u001B[38;5;124m\"\u001B[39m,\n\u001B[1;32m    199\u001B[0m ]:\n\u001B[0;32m--> 200\u001B[0m     \u001B[38;5;28;01mraise\u001B[39;00m \u001B[38;5;167;01mValueError\u001B[39;00m(\u001B[38;5;124m\"\u001B[39m\u001B[38;5;124mUnknown label type: \u001B[39m\u001B[38;5;132;01m%r\u001B[39;00m\u001B[38;5;124m\"\u001B[39m \u001B[38;5;241m%\u001B[39m y_type)\n",
      "\u001B[0;31mValueError\u001B[0m: Unknown label type: 'continuous'"
     ]
    }
   ],
   "source": [
    "logreg = LogisticRegression()\n",
    "logreg.fit(X_train, y_train)\n",
    "\n",
    "logreg.fit(X, y)\n",
    "logreg.fit(X_train, y_train)"
   ],
   "metadata": {
    "collapsed": false,
    "pycharm": {
     "name": "#%%\n"
    }
   }
  },
  {
   "cell_type": "code",
   "execution_count": null,
   "outputs": [],
   "source": [
    "y_predict_logreg = logreg.predict(X_test)"
   ],
   "metadata": {
    "collapsed": false,
    "pycharm": {
     "name": "#%%\n"
    }
   }
  }
 ],
 "metadata": {
  "kernelspec": {
   "display_name": "Python 3",
   "language": "python",
   "name": "python3"
  },
  "language_info": {
   "codemirror_mode": {
    "name": "ipython",
    "version": 2
   },
   "file_extension": ".py",
   "mimetype": "text/x-python",
   "name": "python",
   "nbconvert_exporter": "python",
   "pygments_lexer": "ipython2",
   "version": "2.7.6"
  }
 },
 "nbformat": 4,
 "nbformat_minor": 0
}