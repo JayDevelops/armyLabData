{
 "cells": [
  {
   "cell_type": "markdown",
   "source": [
    "### Markdown\n",
    "-\n",
    "-"
   ],
   "metadata": {
    "collapsed": false,
    "pycharm": {
     "name": "#%% md\n"
    }
   }
  },
  {
   "cell_type": "code",
   "execution_count": 43,
   "outputs": [],
   "source": [
    "# Importing libraries and packages:\n",
    "\n",
    "import pandas as pd\n",
    "import numpy as np\n",
    "import matplotlib.pyplot as mp\n",
    "\n",
    "from sklearn.linear_model import LogisticRegression\n",
    "from sklearn.tree import DecisionTreeClassifier\n",
    "from sklearn.neighbors import KNeighborsClassifier\n",
    "from sklearn.model_selection import train_test_split\n",
    "from sklearn.metrics import accuracy_score\n",
    "from sklearn import metrics\n",
    "from sklearn import preprocessing\n",
    "from sklearn.metrics import auc"
   ],
   "metadata": {
    "collapsed": false,
    "pycharm": {
     "name": "#%%\n"
    }
   }
  },
  {
   "cell_type": "code",
   "execution_count": 44,
   "outputs": [
    {
     "data": {
      "text/plain": "    Freq Hz  M60 Tank idling at 30 meters  Whisper  Normal  Raised  Loud  \\\n0        50                          53.6     36.7    38.1    39.5  41.0   \n1        63                          57.3     38.7    40.1    41.5  43.0   \n2        80                          60.9     40.7    42.1    43.5  45.0   \n3       100                          69.8     42.7    44.1    45.5  47.0   \n4       125                          68.2     44.7    46.1    47.5  49.0   \n5       160                          69.6     46.7    48.1    49.5  51.0   \n6       200                          59.0     47.7    51.1    50.6  54.4   \n7       250                          56.7     48.1    52.4    56.6  59.2   \n8       315                          55.1     48.0    52.6    57.2  62.4   \n9       400                          57.4     49.7    54.3    58.8  63.0   \n10      500                          56.0     49.0    54.9    60.8  65.5   \n11      630                          54.9     47.0    53.7    60.4  67.2   \n12      800                          51.0     42.9    51.0    59.0  66.7   \n13     1000                          48.9     39.8    48.7    57.5  65.8   \n14     1250                          46.7     38.7    47.6    56.5  65.1   \n15     1600                          45.0     37.4    45.8    54.3  63.4   \n16     2000                          42.9     36.0    44.0    52.0  61.0   \n17     2500                          40.7     31.6    40.8    50.0  58.6   \n18     3150                          37.9     31.6    40.2    48.8  56.8   \n19     4000                          35.9     31.5    39.0    46.4  55.1   \n20     5000                          33.9     29.8    35.9    42.1  49.0   \n21     6300                          32.7     29.2    34.2    39.3  45.5   \n22     8000                          31.0     29.9    33.8    37.7  44.1   \n23    10000                          29.4     27.9    31.8    35.7  42.1   \n24  MicDist                          30.0      1.0     1.0     1.0   1.0   \n25   Column                           1.0      2.0     3.0     4.0   5.0   \n26      NaN                           NaN      NaN     NaN     NaN   NaN   \n27      NaN                           NaN      NaN     NaN     NaN   NaN   \n\n    Shouted  Idealized  Jungle Day  Jungle Night  ...  Avg REAT EAR form plug  \\\n0      36.5       46.4        34.0          38.0  ...                    35.0   \n1      38.5       48.4        34.0          38.0  ...                    35.0   \n2      40.5       50.4        33.0          35.0  ...                    35.0   \n3      42.5       52.4        30.0          33.0  ...                    35.0   \n4      44.5       54.4        28.0          30.5  ...                    35.0   \n5      46.5       56.4        27.5          28.0  ...                    35.0   \n6      53.3       57.4        27.5          26.0  ...                    35.0   \n7      60.1       58.3        27.0          24.5  ...                    36.0   \n8      65.1       59.3        26.0          24.0  ...                    38.0   \n9      67.1       60.4        25.0          24.0  ...                    40.0   \n10     69.9       61.3        24.5          24.0  ...                    41.0   \n11     72.9       59.3        24.0          25.0  ...                    41.5   \n12     74.1       57.4        24.0          26.0  ...                    41.5   \n13     75.0       55.3        24.0          26.5  ...                    41.0   \n14     74.2       53.3        24.0          27.0  ...                    39.5   \n15     73.3       51.4        24.0          27.0  ...                    38.0   \n16     71.0       49.4        24.0          27.0  ...                    38.0   \n17     68.4       47.3        23.0          28.5  ...                    40.5   \n18     66.8       45.3        22.5          30.0  ...                    43.0   \n19     64.1       43.4        22.0          31.5  ...                    44.0   \n20     58.9       41.3        22.0          35.0  ...                    44.5   \n21     55.1       39.3        22.0          40.0  ...                    44.5   \n22     53.4       37.4        20.0          43.0  ...                    44.5   \n23     51.4       35.4        20.0          38.0  ...                    44.5   \n24      1.0        1.0         NaN           NaN  ...                     NaN   \n25      6.0        7.0         8.0           9.0  ...                    28.0   \n26      NaN        NaN         NaN           NaN  ...                     NaN   \n27      NaN        NaN         NaN           NaN  ...                     NaN   \n\n    1/3 OB weights for masking bands to calculate critical bands centered on the middle of each group of five 1/3 octave bands  \\\n0                                             0.00000                                                                            \n1                                             0.00000                                                                            \n2                                             0.30480                                                                            \n3                                             0.15210                                                                            \n4                                             0.07568                                                                            \n5                                             0.03776                                                                            \n6                                             0.00000                                                                            \n7                                             0.00000                                                                            \n8                                             0.00000                                                                            \n9                                             0.00000                                                                            \n10                                            0.00000                                                                            \n11                                            0.00000                                                                            \n12                                            0.00000                                                                            \n13                                            0.00000                                                                            \n14                                            0.00000                                                                            \n15                                            0.00000                                                                            \n16                                            0.00000                                                                            \n17                                            0.00000                                                                            \n18                                            0.00000                                                                            \n19                                            0.00000                                                                            \n20                                            0.00000                                                                            \n21                                            0.00000                                                                            \n22                                            0.00000                                                                            \n23                                            0.00000                                                                            \n24                                                NaN                                                                            \n25                                           29.00000                                                                            \n26                                                NaN                                                                            \n27                                                NaN                                                                            \n\n    Unnamed: 30  Unnamed: 31  Unnamed: 32  Unnamed: 33  B3 Array for TSD calc  \\\n0        0.0000          1.0      1.00000      0.50000                 10.158   \n1        0.5333          1.0      0.66830      0.45000                  9.480   \n2        0.4355          1.0      0.51760      0.38460                  9.054   \n3        0.3565          1.0      0.39990      0.13210                  8.848   \n4        0.2917          1.0      0.30900      0.04539                  8.747   \n5        0.2388          1.0      0.23880      0.01560                  8.747   \n6        0.1950          1.0      0.18450      0.00000                  8.747   \n7        0.1596          1.0      0.14290      0.00000                  9.002   \n8        0.1306          1.0      0.11040      0.00000                  9.535   \n9        0.1069          1.0      0.08531      0.00000                 10.395   \n10       0.0875          1.0      0.06592      0.00000                 11.398   \n11       0.0000          1.0      0.00000      0.00000                 12.498   \n12       0.0000          1.0      0.00000      0.00000                 13.703   \n13       0.0000          1.0      0.00000      0.00000                 15.199   \n14       0.0000          1.0      0.00000      0.00000                 17.054   \n15       0.0000          1.0      0.00000      0.00000                 19.134   \n16       0.0000          1.0      0.00000      0.00000                 21.469   \n17       0.0000          1.0      0.00000      0.00000                 24.089   \n18       0.0000          1.0      0.00000      0.00000                 27.028   \n19       0.0000          1.0      0.00000      0.00000                 30.326   \n20       0.0000          1.0      0.00000      0.00000                 34.026   \n21       0.0000          1.0      0.00000      0.00000                 38.178   \n22       0.0000          1.0      0.00000      0.00000                 42.837   \n23       0.0000          1.0      0.00000      0.00000                 48.064   \n24          NaN          NaN          NaN          NaN                    NaN   \n25      30.0000         31.0     32.00000     33.00000                 34.000   \n26          NaN          NaN          NaN          NaN                    NaN   \n27          NaN          NaN          NaN          NaN                    NaN   \n\n    Awt weights  Cwt weights  A.I. weights  \n0         -30.2          NaN        0.0000  \n1         -26.2         -0.8        0.0000  \n2         -22.5         -0.5        0.0000  \n3         -19.1         -0.3        0.0000  \n4         -16.1         -0.2        0.0000  \n5         -13.4         -0.1        0.0000  \n6         -10.9          0.0        0.0004  \n7          -8.8          0.0        0.0010  \n8          -6.6          0.0        0.0010  \n9          -4.8          0.0        0.0014  \n10         -3.2          0.0        0.0014  \n11         -1.9          0.0        0.0020  \n12         -0.8          0.0        0.0020  \n13          0.0          0.0        0.0024  \n14          0.6          0.0        0.0030  \n15          1.0         -0.1        0.0037  \n16          1.2         -0.2        0.0037  \n17          1.3         -0.3        0.0034  \n18          1.2         -0.5        0.0034  \n19          1.0         -0.8        0.0024  \n20          0.5         -1.3        0.0020  \n21         -0.1         -2.0        0.0000  \n22         -1.1         -3.0        0.0000  \n23         -2.5         -4.4        0.0000  \n24          NaN          NaN           NaN  \n25         35.0         36.0       37.0000  \n26          NaN          NaN           NaN  \n27          NaN          NaN           NaN  \n\n[28 rows x 38 columns]",
      "text/html": "<div>\n<style scoped>\n    .dataframe tbody tr th:only-of-type {\n        vertical-align: middle;\n    }\n\n    .dataframe tbody tr th {\n        vertical-align: top;\n    }\n\n    .dataframe thead th {\n        text-align: right;\n    }\n</style>\n<table border=\"1\" class=\"dataframe\">\n  <thead>\n    <tr style=\"text-align: right;\">\n      <th></th>\n      <th>Freq Hz</th>\n      <th>M60 Tank idling at 30 meters</th>\n      <th>Whisper</th>\n      <th>Normal</th>\n      <th>Raised</th>\n      <th>Loud</th>\n      <th>Shouted</th>\n      <th>Idealized</th>\n      <th>Jungle Day</th>\n      <th>Jungle Night</th>\n      <th>...</th>\n      <th>Avg REAT EAR form plug</th>\n      <th>1/3 OB weights for masking bands to calculate critical bands centered on the middle of each group of five 1/3 octave bands</th>\n      <th>Unnamed: 30</th>\n      <th>Unnamed: 31</th>\n      <th>Unnamed: 32</th>\n      <th>Unnamed: 33</th>\n      <th>B3 Array for TSD calc</th>\n      <th>Awt weights</th>\n      <th>Cwt weights</th>\n      <th>A.I. weights</th>\n    </tr>\n  </thead>\n  <tbody>\n    <tr>\n      <th>0</th>\n      <td>50</td>\n      <td>53.6</td>\n      <td>36.7</td>\n      <td>38.1</td>\n      <td>39.5</td>\n      <td>41.0</td>\n      <td>36.5</td>\n      <td>46.4</td>\n      <td>34.0</td>\n      <td>38.0</td>\n      <td>...</td>\n      <td>35.0</td>\n      <td>0.00000</td>\n      <td>0.0000</td>\n      <td>1.0</td>\n      <td>1.00000</td>\n      <td>0.50000</td>\n      <td>10.158</td>\n      <td>-30.2</td>\n      <td>NaN</td>\n      <td>0.0000</td>\n    </tr>\n    <tr>\n      <th>1</th>\n      <td>63</td>\n      <td>57.3</td>\n      <td>38.7</td>\n      <td>40.1</td>\n      <td>41.5</td>\n      <td>43.0</td>\n      <td>38.5</td>\n      <td>48.4</td>\n      <td>34.0</td>\n      <td>38.0</td>\n      <td>...</td>\n      <td>35.0</td>\n      <td>0.00000</td>\n      <td>0.5333</td>\n      <td>1.0</td>\n      <td>0.66830</td>\n      <td>0.45000</td>\n      <td>9.480</td>\n      <td>-26.2</td>\n      <td>-0.8</td>\n      <td>0.0000</td>\n    </tr>\n    <tr>\n      <th>2</th>\n      <td>80</td>\n      <td>60.9</td>\n      <td>40.7</td>\n      <td>42.1</td>\n      <td>43.5</td>\n      <td>45.0</td>\n      <td>40.5</td>\n      <td>50.4</td>\n      <td>33.0</td>\n      <td>35.0</td>\n      <td>...</td>\n      <td>35.0</td>\n      <td>0.30480</td>\n      <td>0.4355</td>\n      <td>1.0</td>\n      <td>0.51760</td>\n      <td>0.38460</td>\n      <td>9.054</td>\n      <td>-22.5</td>\n      <td>-0.5</td>\n      <td>0.0000</td>\n    </tr>\n    <tr>\n      <th>3</th>\n      <td>100</td>\n      <td>69.8</td>\n      <td>42.7</td>\n      <td>44.1</td>\n      <td>45.5</td>\n      <td>47.0</td>\n      <td>42.5</td>\n      <td>52.4</td>\n      <td>30.0</td>\n      <td>33.0</td>\n      <td>...</td>\n      <td>35.0</td>\n      <td>0.15210</td>\n      <td>0.3565</td>\n      <td>1.0</td>\n      <td>0.39990</td>\n      <td>0.13210</td>\n      <td>8.848</td>\n      <td>-19.1</td>\n      <td>-0.3</td>\n      <td>0.0000</td>\n    </tr>\n    <tr>\n      <th>4</th>\n      <td>125</td>\n      <td>68.2</td>\n      <td>44.7</td>\n      <td>46.1</td>\n      <td>47.5</td>\n      <td>49.0</td>\n      <td>44.5</td>\n      <td>54.4</td>\n      <td>28.0</td>\n      <td>30.5</td>\n      <td>...</td>\n      <td>35.0</td>\n      <td>0.07568</td>\n      <td>0.2917</td>\n      <td>1.0</td>\n      <td>0.30900</td>\n      <td>0.04539</td>\n      <td>8.747</td>\n      <td>-16.1</td>\n      <td>-0.2</td>\n      <td>0.0000</td>\n    </tr>\n    <tr>\n      <th>5</th>\n      <td>160</td>\n      <td>69.6</td>\n      <td>46.7</td>\n      <td>48.1</td>\n      <td>49.5</td>\n      <td>51.0</td>\n      <td>46.5</td>\n      <td>56.4</td>\n      <td>27.5</td>\n      <td>28.0</td>\n      <td>...</td>\n      <td>35.0</td>\n      <td>0.03776</td>\n      <td>0.2388</td>\n      <td>1.0</td>\n      <td>0.23880</td>\n      <td>0.01560</td>\n      <td>8.747</td>\n      <td>-13.4</td>\n      <td>-0.1</td>\n      <td>0.0000</td>\n    </tr>\n    <tr>\n      <th>6</th>\n      <td>200</td>\n      <td>59.0</td>\n      <td>47.7</td>\n      <td>51.1</td>\n      <td>50.6</td>\n      <td>54.4</td>\n      <td>53.3</td>\n      <td>57.4</td>\n      <td>27.5</td>\n      <td>26.0</td>\n      <td>...</td>\n      <td>35.0</td>\n      <td>0.00000</td>\n      <td>0.1950</td>\n      <td>1.0</td>\n      <td>0.18450</td>\n      <td>0.00000</td>\n      <td>8.747</td>\n      <td>-10.9</td>\n      <td>0.0</td>\n      <td>0.0004</td>\n    </tr>\n    <tr>\n      <th>7</th>\n      <td>250</td>\n      <td>56.7</td>\n      <td>48.1</td>\n      <td>52.4</td>\n      <td>56.6</td>\n      <td>59.2</td>\n      <td>60.1</td>\n      <td>58.3</td>\n      <td>27.0</td>\n      <td>24.5</td>\n      <td>...</td>\n      <td>36.0</td>\n      <td>0.00000</td>\n      <td>0.1596</td>\n      <td>1.0</td>\n      <td>0.14290</td>\n      <td>0.00000</td>\n      <td>9.002</td>\n      <td>-8.8</td>\n      <td>0.0</td>\n      <td>0.0010</td>\n    </tr>\n    <tr>\n      <th>8</th>\n      <td>315</td>\n      <td>55.1</td>\n      <td>48.0</td>\n      <td>52.6</td>\n      <td>57.2</td>\n      <td>62.4</td>\n      <td>65.1</td>\n      <td>59.3</td>\n      <td>26.0</td>\n      <td>24.0</td>\n      <td>...</td>\n      <td>38.0</td>\n      <td>0.00000</td>\n      <td>0.1306</td>\n      <td>1.0</td>\n      <td>0.11040</td>\n      <td>0.00000</td>\n      <td>9.535</td>\n      <td>-6.6</td>\n      <td>0.0</td>\n      <td>0.0010</td>\n    </tr>\n    <tr>\n      <th>9</th>\n      <td>400</td>\n      <td>57.4</td>\n      <td>49.7</td>\n      <td>54.3</td>\n      <td>58.8</td>\n      <td>63.0</td>\n      <td>67.1</td>\n      <td>60.4</td>\n      <td>25.0</td>\n      <td>24.0</td>\n      <td>...</td>\n      <td>40.0</td>\n      <td>0.00000</td>\n      <td>0.1069</td>\n      <td>1.0</td>\n      <td>0.08531</td>\n      <td>0.00000</td>\n      <td>10.395</td>\n      <td>-4.8</td>\n      <td>0.0</td>\n      <td>0.0014</td>\n    </tr>\n    <tr>\n      <th>10</th>\n      <td>500</td>\n      <td>56.0</td>\n      <td>49.0</td>\n      <td>54.9</td>\n      <td>60.8</td>\n      <td>65.5</td>\n      <td>69.9</td>\n      <td>61.3</td>\n      <td>24.5</td>\n      <td>24.0</td>\n      <td>...</td>\n      <td>41.0</td>\n      <td>0.00000</td>\n      <td>0.0875</td>\n      <td>1.0</td>\n      <td>0.06592</td>\n      <td>0.00000</td>\n      <td>11.398</td>\n      <td>-3.2</td>\n      <td>0.0</td>\n      <td>0.0014</td>\n    </tr>\n    <tr>\n      <th>11</th>\n      <td>630</td>\n      <td>54.9</td>\n      <td>47.0</td>\n      <td>53.7</td>\n      <td>60.4</td>\n      <td>67.2</td>\n      <td>72.9</td>\n      <td>59.3</td>\n      <td>24.0</td>\n      <td>25.0</td>\n      <td>...</td>\n      <td>41.5</td>\n      <td>0.00000</td>\n      <td>0.0000</td>\n      <td>1.0</td>\n      <td>0.00000</td>\n      <td>0.00000</td>\n      <td>12.498</td>\n      <td>-1.9</td>\n      <td>0.0</td>\n      <td>0.0020</td>\n    </tr>\n    <tr>\n      <th>12</th>\n      <td>800</td>\n      <td>51.0</td>\n      <td>42.9</td>\n      <td>51.0</td>\n      <td>59.0</td>\n      <td>66.7</td>\n      <td>74.1</td>\n      <td>57.4</td>\n      <td>24.0</td>\n      <td>26.0</td>\n      <td>...</td>\n      <td>41.5</td>\n      <td>0.00000</td>\n      <td>0.0000</td>\n      <td>1.0</td>\n      <td>0.00000</td>\n      <td>0.00000</td>\n      <td>13.703</td>\n      <td>-0.8</td>\n      <td>0.0</td>\n      <td>0.0020</td>\n    </tr>\n    <tr>\n      <th>13</th>\n      <td>1000</td>\n      <td>48.9</td>\n      <td>39.8</td>\n      <td>48.7</td>\n      <td>57.5</td>\n      <td>65.8</td>\n      <td>75.0</td>\n      <td>55.3</td>\n      <td>24.0</td>\n      <td>26.5</td>\n      <td>...</td>\n      <td>41.0</td>\n      <td>0.00000</td>\n      <td>0.0000</td>\n      <td>1.0</td>\n      <td>0.00000</td>\n      <td>0.00000</td>\n      <td>15.199</td>\n      <td>0.0</td>\n      <td>0.0</td>\n      <td>0.0024</td>\n    </tr>\n    <tr>\n      <th>14</th>\n      <td>1250</td>\n      <td>46.7</td>\n      <td>38.7</td>\n      <td>47.6</td>\n      <td>56.5</td>\n      <td>65.1</td>\n      <td>74.2</td>\n      <td>53.3</td>\n      <td>24.0</td>\n      <td>27.0</td>\n      <td>...</td>\n      <td>39.5</td>\n      <td>0.00000</td>\n      <td>0.0000</td>\n      <td>1.0</td>\n      <td>0.00000</td>\n      <td>0.00000</td>\n      <td>17.054</td>\n      <td>0.6</td>\n      <td>0.0</td>\n      <td>0.0030</td>\n    </tr>\n    <tr>\n      <th>15</th>\n      <td>1600</td>\n      <td>45.0</td>\n      <td>37.4</td>\n      <td>45.8</td>\n      <td>54.3</td>\n      <td>63.4</td>\n      <td>73.3</td>\n      <td>51.4</td>\n      <td>24.0</td>\n      <td>27.0</td>\n      <td>...</td>\n      <td>38.0</td>\n      <td>0.00000</td>\n      <td>0.0000</td>\n      <td>1.0</td>\n      <td>0.00000</td>\n      <td>0.00000</td>\n      <td>19.134</td>\n      <td>1.0</td>\n      <td>-0.1</td>\n      <td>0.0037</td>\n    </tr>\n    <tr>\n      <th>16</th>\n      <td>2000</td>\n      <td>42.9</td>\n      <td>36.0</td>\n      <td>44.0</td>\n      <td>52.0</td>\n      <td>61.0</td>\n      <td>71.0</td>\n      <td>49.4</td>\n      <td>24.0</td>\n      <td>27.0</td>\n      <td>...</td>\n      <td>38.0</td>\n      <td>0.00000</td>\n      <td>0.0000</td>\n      <td>1.0</td>\n      <td>0.00000</td>\n      <td>0.00000</td>\n      <td>21.469</td>\n      <td>1.2</td>\n      <td>-0.2</td>\n      <td>0.0037</td>\n    </tr>\n    <tr>\n      <th>17</th>\n      <td>2500</td>\n      <td>40.7</td>\n      <td>31.6</td>\n      <td>40.8</td>\n      <td>50.0</td>\n      <td>58.6</td>\n      <td>68.4</td>\n      <td>47.3</td>\n      <td>23.0</td>\n      <td>28.5</td>\n      <td>...</td>\n      <td>40.5</td>\n      <td>0.00000</td>\n      <td>0.0000</td>\n      <td>1.0</td>\n      <td>0.00000</td>\n      <td>0.00000</td>\n      <td>24.089</td>\n      <td>1.3</td>\n      <td>-0.3</td>\n      <td>0.0034</td>\n    </tr>\n    <tr>\n      <th>18</th>\n      <td>3150</td>\n      <td>37.9</td>\n      <td>31.6</td>\n      <td>40.2</td>\n      <td>48.8</td>\n      <td>56.8</td>\n      <td>66.8</td>\n      <td>45.3</td>\n      <td>22.5</td>\n      <td>30.0</td>\n      <td>...</td>\n      <td>43.0</td>\n      <td>0.00000</td>\n      <td>0.0000</td>\n      <td>1.0</td>\n      <td>0.00000</td>\n      <td>0.00000</td>\n      <td>27.028</td>\n      <td>1.2</td>\n      <td>-0.5</td>\n      <td>0.0034</td>\n    </tr>\n    <tr>\n      <th>19</th>\n      <td>4000</td>\n      <td>35.9</td>\n      <td>31.5</td>\n      <td>39.0</td>\n      <td>46.4</td>\n      <td>55.1</td>\n      <td>64.1</td>\n      <td>43.4</td>\n      <td>22.0</td>\n      <td>31.5</td>\n      <td>...</td>\n      <td>44.0</td>\n      <td>0.00000</td>\n      <td>0.0000</td>\n      <td>1.0</td>\n      <td>0.00000</td>\n      <td>0.00000</td>\n      <td>30.326</td>\n      <td>1.0</td>\n      <td>-0.8</td>\n      <td>0.0024</td>\n    </tr>\n    <tr>\n      <th>20</th>\n      <td>5000</td>\n      <td>33.9</td>\n      <td>29.8</td>\n      <td>35.9</td>\n      <td>42.1</td>\n      <td>49.0</td>\n      <td>58.9</td>\n      <td>41.3</td>\n      <td>22.0</td>\n      <td>35.0</td>\n      <td>...</td>\n      <td>44.5</td>\n      <td>0.00000</td>\n      <td>0.0000</td>\n      <td>1.0</td>\n      <td>0.00000</td>\n      <td>0.00000</td>\n      <td>34.026</td>\n      <td>0.5</td>\n      <td>-1.3</td>\n      <td>0.0020</td>\n    </tr>\n    <tr>\n      <th>21</th>\n      <td>6300</td>\n      <td>32.7</td>\n      <td>29.2</td>\n      <td>34.2</td>\n      <td>39.3</td>\n      <td>45.5</td>\n      <td>55.1</td>\n      <td>39.3</td>\n      <td>22.0</td>\n      <td>40.0</td>\n      <td>...</td>\n      <td>44.5</td>\n      <td>0.00000</td>\n      <td>0.0000</td>\n      <td>1.0</td>\n      <td>0.00000</td>\n      <td>0.00000</td>\n      <td>38.178</td>\n      <td>-0.1</td>\n      <td>-2.0</td>\n      <td>0.0000</td>\n    </tr>\n    <tr>\n      <th>22</th>\n      <td>8000</td>\n      <td>31.0</td>\n      <td>29.9</td>\n      <td>33.8</td>\n      <td>37.7</td>\n      <td>44.1</td>\n      <td>53.4</td>\n      <td>37.4</td>\n      <td>20.0</td>\n      <td>43.0</td>\n      <td>...</td>\n      <td>44.5</td>\n      <td>0.00000</td>\n      <td>0.0000</td>\n      <td>1.0</td>\n      <td>0.00000</td>\n      <td>0.00000</td>\n      <td>42.837</td>\n      <td>-1.1</td>\n      <td>-3.0</td>\n      <td>0.0000</td>\n    </tr>\n    <tr>\n      <th>23</th>\n      <td>10000</td>\n      <td>29.4</td>\n      <td>27.9</td>\n      <td>31.8</td>\n      <td>35.7</td>\n      <td>42.1</td>\n      <td>51.4</td>\n      <td>35.4</td>\n      <td>20.0</td>\n      <td>38.0</td>\n      <td>...</td>\n      <td>44.5</td>\n      <td>0.00000</td>\n      <td>0.0000</td>\n      <td>1.0</td>\n      <td>0.00000</td>\n      <td>0.00000</td>\n      <td>48.064</td>\n      <td>-2.5</td>\n      <td>-4.4</td>\n      <td>0.0000</td>\n    </tr>\n    <tr>\n      <th>24</th>\n      <td>MicDist</td>\n      <td>30.0</td>\n      <td>1.0</td>\n      <td>1.0</td>\n      <td>1.0</td>\n      <td>1.0</td>\n      <td>1.0</td>\n      <td>1.0</td>\n      <td>NaN</td>\n      <td>NaN</td>\n      <td>...</td>\n      <td>NaN</td>\n      <td>NaN</td>\n      <td>NaN</td>\n      <td>NaN</td>\n      <td>NaN</td>\n      <td>NaN</td>\n      <td>NaN</td>\n      <td>NaN</td>\n      <td>NaN</td>\n      <td>NaN</td>\n    </tr>\n    <tr>\n      <th>25</th>\n      <td>Column</td>\n      <td>1.0</td>\n      <td>2.0</td>\n      <td>3.0</td>\n      <td>4.0</td>\n      <td>5.0</td>\n      <td>6.0</td>\n      <td>7.0</td>\n      <td>8.0</td>\n      <td>9.0</td>\n      <td>...</td>\n      <td>28.0</td>\n      <td>29.00000</td>\n      <td>30.0000</td>\n      <td>31.0</td>\n      <td>32.00000</td>\n      <td>33.00000</td>\n      <td>34.000</td>\n      <td>35.0</td>\n      <td>36.0</td>\n      <td>37.0000</td>\n    </tr>\n    <tr>\n      <th>26</th>\n      <td>NaN</td>\n      <td>NaN</td>\n      <td>NaN</td>\n      <td>NaN</td>\n      <td>NaN</td>\n      <td>NaN</td>\n      <td>NaN</td>\n      <td>NaN</td>\n      <td>NaN</td>\n      <td>NaN</td>\n      <td>...</td>\n      <td>NaN</td>\n      <td>NaN</td>\n      <td>NaN</td>\n      <td>NaN</td>\n      <td>NaN</td>\n      <td>NaN</td>\n      <td>NaN</td>\n      <td>NaN</td>\n      <td>NaN</td>\n      <td>NaN</td>\n    </tr>\n    <tr>\n      <th>27</th>\n      <td>NaN</td>\n      <td>NaN</td>\n      <td>NaN</td>\n      <td>NaN</td>\n      <td>NaN</td>\n      <td>NaN</td>\n      <td>NaN</td>\n      <td>NaN</td>\n      <td>NaN</td>\n      <td>NaN</td>\n      <td>...</td>\n      <td>NaN</td>\n      <td>NaN</td>\n      <td>NaN</td>\n      <td>NaN</td>\n      <td>NaN</td>\n      <td>NaN</td>\n      <td>NaN</td>\n      <td>NaN</td>\n      <td>NaN</td>\n      <td>NaN</td>\n    </tr>\n  </tbody>\n</table>\n<p>28 rows × 38 columns</p>\n</div>"
     },
     "execution_count": 44,
     "metadata": {},
     "output_type": "execute_result"
    }
   ],
   "source": [
    "df = pd.read_csv(\"admClean.csv\")\n",
    "df"
   ],
   "metadata": {
    "collapsed": false,
    "pycharm": {
     "name": "#%%\n"
    }
   }
  },
  {
   "cell_type": "code",
   "execution_count": 45,
   "outputs": [
    {
     "name": "stdout",
     "output_type": "stream",
     "text": [
      "    M60 Tank idling at 30 meters  Whisper  Normal  Raised  Loud  Shouted\n",
      "0                           53.6     36.7    38.1    39.5  41.0     36.5\n",
      "1                           57.3     38.7    40.1    41.5  43.0     38.5\n",
      "2                           60.9     40.7    42.1    43.5  45.0     40.5\n",
      "3                           69.8     42.7    44.1    45.5  47.0     42.5\n",
      "4                           68.2     44.7    46.1    47.5  49.0     44.5\n",
      "5                           69.6     46.7    48.1    49.5  51.0     46.5\n",
      "6                           59.0     47.7    51.1    50.6  54.4     53.3\n",
      "7                           56.7     48.1    52.4    56.6  59.2     60.1\n",
      "8                           55.1     48.0    52.6    57.2  62.4     65.1\n",
      "9                           57.4     49.7    54.3    58.8  63.0     67.1\n",
      "10                          56.0     49.0    54.9    60.8  65.5     69.9\n",
      "11                          54.9     47.0    53.7    60.4  67.2     72.9\n",
      "12                          51.0     42.9    51.0    59.0  66.7     74.1\n",
      "13                          48.9     39.8    48.7    57.5  65.8     75.0\n",
      "14                          46.7     38.7    47.6    56.5  65.1     74.2\n",
      "15                          45.0     37.4    45.8    54.3  63.4     73.3\n",
      "16                          42.9     36.0    44.0    52.0  61.0     71.0\n",
      "17                          40.7     31.6    40.8    50.0  58.6     68.4\n",
      "18                          37.9     31.6    40.2    48.8  56.8     66.8\n",
      "19                          35.9     31.5    39.0    46.4  55.1     64.1\n",
      "20                          33.9     29.8    35.9    42.1  49.0     58.9\n",
      "21                          32.7     29.2    34.2    39.3  45.5     55.1\n",
      "22                          31.0     29.9    33.8    37.7  44.1     53.4\n",
      "23                          29.4     27.9    31.8    35.7  42.1     51.4\n",
      "0        50\n",
      "1        63\n",
      "2        80\n",
      "3       100\n",
      "4       125\n",
      "5       160\n",
      "6       200\n",
      "7       250\n",
      "8       315\n",
      "9       400\n",
      "10      500\n",
      "11      630\n",
      "12      800\n",
      "13     1000\n",
      "14     1250\n",
      "15     1600\n",
      "16     2000\n",
      "17     2500\n",
      "18     3150\n",
      "19     4000\n",
      "20     5000\n",
      "21     6300\n",
      "22     8000\n",
      "23    10000\n",
      "Name: Freq Hz, dtype: object\n"
     ]
    }
   ],
   "source": [
    "feature_cols = ['M60 Tank idling at 30 meters','Whisper','Normal','Raised','Loud','Shouted']\n",
    "\n",
    "X = df[feature_cols]\n",
    "#X.drop(X.index[[24,25,26,27,28]])\n",
    "#X.drop(labels='MicDist',axis=0,index=25,columns=none,level=none,implace=False,errors='raise')\n",
    "\n",
    "y = df['Freq Hz']\n",
    "X = X.drop([24,25,26,27])\n",
    "y = y.drop([24,25,26,27])\n",
    "\n",
    "\n",
    "print(X)\n",
    "print(y)"
   ],
   "metadata": {
    "collapsed": false,
    "pycharm": {
     "name": "#%%\n"
    }
   }
  },
  {
   "cell_type": "markdown",
   "source": [],
   "metadata": {
    "collapsed": false,
    "pycharm": {
     "name": "#%% md\n"
    }
   }
  },
  {
   "cell_type": "code",
   "execution_count": 46,
   "outputs": [
    {
     "name": "stdout",
     "output_type": "stream",
     "text": [
      "(9, 6)\n",
      "(9,)\n",
      "(15, 6)\n",
      "(15,)\n"
     ]
    }
   ],
   "source": [
    "# Randomly splitting the original dataset into training set and testing set:\n",
    "X_train, X_test, y_train, y_test = train_test_split(X, y, test_size=0.6, random_state=6)\n",
    "# print the size of the training set:\n",
    "print(X_train.shape)\n",
    "print(y_train.shape)\n",
    "\n",
    "# print the size of the testing set:\n",
    "print(X_test.shape)\n",
    "print(y_test.shape)"
   ],
   "metadata": {
    "collapsed": false,
    "pycharm": {
     "name": "#%%\n"
    }
   }
  },
  {
   "cell_type": "code",
   "execution_count": 47,
   "outputs": [
    {
     "data": {
      "text/plain": "KNeighborsClassifier(n_neighbors=3)",
      "text/html": "<style>#sk-container-id-3 {color: black;background-color: white;}#sk-container-id-3 pre{padding: 0;}#sk-container-id-3 div.sk-toggleable {background-color: white;}#sk-container-id-3 label.sk-toggleable__label {cursor: pointer;display: block;width: 100%;margin-bottom: 0;padding: 0.3em;box-sizing: border-box;text-align: center;}#sk-container-id-3 label.sk-toggleable__label-arrow:before {content: \"▸\";float: left;margin-right: 0.25em;color: #696969;}#sk-container-id-3 label.sk-toggleable__label-arrow:hover:before {color: black;}#sk-container-id-3 div.sk-estimator:hover label.sk-toggleable__label-arrow:before {color: black;}#sk-container-id-3 div.sk-toggleable__content {max-height: 0;max-width: 0;overflow: hidden;text-align: left;background-color: #f0f8ff;}#sk-container-id-3 div.sk-toggleable__content pre {margin: 0.2em;color: black;border-radius: 0.25em;background-color: #f0f8ff;}#sk-container-id-3 input.sk-toggleable__control:checked~div.sk-toggleable__content {max-height: 200px;max-width: 100%;overflow: auto;}#sk-container-id-3 input.sk-toggleable__control:checked~label.sk-toggleable__label-arrow:before {content: \"▾\";}#sk-container-id-3 div.sk-estimator input.sk-toggleable__control:checked~label.sk-toggleable__label {background-color: #d4ebff;}#sk-container-id-3 div.sk-label input.sk-toggleable__control:checked~label.sk-toggleable__label {background-color: #d4ebff;}#sk-container-id-3 input.sk-hidden--visually {border: 0;clip: rect(1px 1px 1px 1px);clip: rect(1px, 1px, 1px, 1px);height: 1px;margin: -1px;overflow: hidden;padding: 0;position: absolute;width: 1px;}#sk-container-id-3 div.sk-estimator {font-family: monospace;background-color: #f0f8ff;border: 1px dotted black;border-radius: 0.25em;box-sizing: border-box;margin-bottom: 0.5em;}#sk-container-id-3 div.sk-estimator:hover {background-color: #d4ebff;}#sk-container-id-3 div.sk-parallel-item::after {content: \"\";width: 100%;border-bottom: 1px solid gray;flex-grow: 1;}#sk-container-id-3 div.sk-label:hover label.sk-toggleable__label {background-color: #d4ebff;}#sk-container-id-3 div.sk-serial::before {content: \"\";position: absolute;border-left: 1px solid gray;box-sizing: border-box;top: 0;bottom: 0;left: 50%;z-index: 0;}#sk-container-id-3 div.sk-serial {display: flex;flex-direction: column;align-items: center;background-color: white;padding-right: 0.2em;padding-left: 0.2em;position: relative;}#sk-container-id-3 div.sk-item {position: relative;z-index: 1;}#sk-container-id-3 div.sk-parallel {display: flex;align-items: stretch;justify-content: center;background-color: white;position: relative;}#sk-container-id-3 div.sk-item::before, #sk-container-id-3 div.sk-parallel-item::before {content: \"\";position: absolute;border-left: 1px solid gray;box-sizing: border-box;top: 0;bottom: 0;left: 50%;z-index: -1;}#sk-container-id-3 div.sk-parallel-item {display: flex;flex-direction: column;z-index: 1;position: relative;background-color: white;}#sk-container-id-3 div.sk-parallel-item:first-child::after {align-self: flex-end;width: 50%;}#sk-container-id-3 div.sk-parallel-item:last-child::after {align-self: flex-start;width: 50%;}#sk-container-id-3 div.sk-parallel-item:only-child::after {width: 0;}#sk-container-id-3 div.sk-dashed-wrapped {border: 1px dashed gray;margin: 0 0.4em 0.5em 0.4em;box-sizing: border-box;padding-bottom: 0.4em;background-color: white;}#sk-container-id-3 div.sk-label label {font-family: monospace;font-weight: bold;display: inline-block;line-height: 1.2em;}#sk-container-id-3 div.sk-label-container {text-align: center;}#sk-container-id-3 div.sk-container {/* jupyter's `normalize.less` sets `[hidden] { display: none; }` but bootstrap.min.css set `[hidden] { display: none !important; }` so we also need the `!important` here to be able to override the default hidden behavior on the sphinx rendered scikit-learn.org. See: https://github.com/scikit-learn/scikit-learn/issues/21755 */display: inline-block !important;position: relative;}#sk-container-id-3 div.sk-text-repr-fallback {display: none;}</style><div id=\"sk-container-id-3\" class=\"sk-top-container\"><div class=\"sk-text-repr-fallback\"><pre>KNeighborsClassifier(n_neighbors=3)</pre><b>In a Jupyter environment, please rerun this cell to show the HTML representation or trust the notebook. <br />On GitHub, the HTML representation is unable to render, please try loading this page with nbviewer.org.</b></div><div class=\"sk-container\" hidden><div class=\"sk-item\"><div class=\"sk-estimator sk-toggleable\"><input class=\"sk-toggleable__control sk-hidden--visually\" id=\"sk-estimator-id-3\" type=\"checkbox\" checked><label for=\"sk-estimator-id-3\" class=\"sk-toggleable__label sk-toggleable__label-arrow\">KNeighborsClassifier</label><div class=\"sk-toggleable__content\"><pre>KNeighborsClassifier(n_neighbors=3)</pre></div></div></div></div></div>"
     },
     "execution_count": 47,
     "metadata": {},
     "output_type": "execute_result"
    }
   ],
   "source": [
    "k=3\n",
    "knn_data = KNeighborsClassifier(n_neighbors=k)\n",
    "knn_data.fit(X, y)\n",
    "\n",
    "knn_data.fit(X_train, y_train)"
   ],
   "metadata": {
    "collapsed": false,
    "pycharm": {
     "name": "#%%\n"
    }
   }
  },
  {
   "cell_type": "code",
   "execution_count": 48,
   "outputs": [
    {
     "name": "stdout",
     "output_type": "stream",
     "text": [
      "0.0\n"
     ]
    }
   ],
   "source": [
    "from sklearn.metrics import accuracy_score\n",
    "predict_y = knn_data.predict(X_test)\n",
    "\n",
    "acc = accuracy_score(y_test, predict_y)\n",
    "print(acc)"
   ],
   "metadata": {
    "collapsed": false,
    "pycharm": {
     "name": "#%%\n"
    }
   }
  }
 ],
 "metadata": {
  "kernelspec": {
   "display_name": "Python 3",
   "language": "python",
   "name": "python3"
  },
  "language_info": {
   "codemirror_mode": {
    "name": "ipython",
    "version": 2
   },
   "file_extension": ".py",
   "mimetype": "text/x-python",
   "name": "python",
   "nbconvert_exporter": "python",
   "pygments_lexer": "ipython2",
   "version": "2.7.6"
  }
 },
 "nbformat": 4,
 "nbformat_minor": 0
}