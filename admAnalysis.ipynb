{
 "cells": [
  {
   "cell_type": "code",
   "execution_count": 4,
   "metadata": {
    "collapsed": true
   },
   "outputs": [],
   "source": [
    "# Importing libraries and packages:\n",
    "\n",
    "import pandas as pd\n",
    "import numpy as np\n",
    "import matplotlib.pyplot as mp\n",
    "\n",
    "from sklearn.linear_model import LogisticRegression\n",
    "from sklearn.tree import DecisionTreeClassifier\n",
    "from sklearn.neighbors import KNeighborsClassifier\n",
    "from sklearn.model_selection import train_test_split\n",
    "from sklearn.metrics import accuracy_score\n",
    "from sklearn import metrics\n",
    "from sklearn import preprocessing\n",
    "from sklearn.metrics import auc"
   ]
  },
  {
   "cell_type": "code",
   "execution_count": 5,
   "outputs": [
    {
     "data": {
      "text/plain": "  Freq Hz M60 Tank idling at 30 meters Whisper  Normal  Raised  Loud  Shouted  \\\n0      50                         53.6    36.7    38.1    39.5  41.0     36.5   \n1      63                         57.3    38.7    40.1    41.5  43.0     38.5   \n2      80                         60.9    40.7    42.1    43.5  45.0     40.5   \n3     100                         69.8    42.7    44.1    45.5  47.0     42.5   \n4     125                         68.2    44.7    46.1    47.5  49.0     44.5   \n\n   Idealized Jungle Day  Jungle Night  ...  Avg REAT EAR form plug  \\\n0       46.4       34.0          38.0  ...                    35.0   \n1       48.4       34.0          38.0  ...                    35.0   \n2       50.4       33.0          35.0  ...                    35.0   \n3       52.4       30.0          33.0  ...                    35.0   \n4       54.4       28.0          30.5  ...                    35.0   \n\n   1/3 OB weights for masking bands to calculate critical bands centered on the middle of each group of five 1/3 octave bands  \\\n0                                                  0                                                                            \n1                                                  0                                                                            \n2                                             0.3048                                                                            \n3                                             0.1521                                                                            \n4                                            0.07568                                                                            \n\n   Unnamed: 30  Unnamed: 31  Unnamed: 32  Unnamed: 33  B3 Array for TSD calc  \\\n0       0.0000          1.0       1.0000      0.50000                 10.158   \n1       0.5333          1.0       0.6683      0.45000                  9.480   \n2       0.4355          1.0       0.5176      0.38460                  9.054   \n3       0.3565          1.0       0.3999      0.13210                  8.848   \n4       0.2917          1.0       0.3090      0.04539                  8.747   \n\n   Awt weights  Cwt weights  A.I. weights  \n0        -30.2          NaN           0.0  \n1        -26.2         -0.8           0.0  \n2        -22.5         -0.5           0.0  \n3        -19.1         -0.3           0.0  \n4        -16.1         -0.2           0.0  \n\n[5 rows x 38 columns]",
      "text/html": "<div>\n<style scoped>\n    .dataframe tbody tr th:only-of-type {\n        vertical-align: middle;\n    }\n\n    .dataframe tbody tr th {\n        vertical-align: top;\n    }\n\n    .dataframe thead th {\n        text-align: right;\n    }\n</style>\n<table border=\"1\" class=\"dataframe\">\n  <thead>\n    <tr style=\"text-align: right;\">\n      <th></th>\n      <th>Freq Hz</th>\n      <th>M60 Tank idling at 30 meters</th>\n      <th>Whisper</th>\n      <th>Normal</th>\n      <th>Raised</th>\n      <th>Loud</th>\n      <th>Shouted</th>\n      <th>Idealized</th>\n      <th>Jungle Day</th>\n      <th>Jungle Night</th>\n      <th>...</th>\n      <th>Avg REAT EAR form plug</th>\n      <th>1/3 OB weights for masking bands to calculate critical bands centered on the middle of each group of five 1/3 octave bands</th>\n      <th>Unnamed: 30</th>\n      <th>Unnamed: 31</th>\n      <th>Unnamed: 32</th>\n      <th>Unnamed: 33</th>\n      <th>B3 Array for TSD calc</th>\n      <th>Awt weights</th>\n      <th>Cwt weights</th>\n      <th>A.I. weights</th>\n    </tr>\n  </thead>\n  <tbody>\n    <tr>\n      <th>0</th>\n      <td>50</td>\n      <td>53.6</td>\n      <td>36.7</td>\n      <td>38.1</td>\n      <td>39.5</td>\n      <td>41.0</td>\n      <td>36.5</td>\n      <td>46.4</td>\n      <td>34.0</td>\n      <td>38.0</td>\n      <td>...</td>\n      <td>35.0</td>\n      <td>0</td>\n      <td>0.0000</td>\n      <td>1.0</td>\n      <td>1.0000</td>\n      <td>0.50000</td>\n      <td>10.158</td>\n      <td>-30.2</td>\n      <td>NaN</td>\n      <td>0.0</td>\n    </tr>\n    <tr>\n      <th>1</th>\n      <td>63</td>\n      <td>57.3</td>\n      <td>38.7</td>\n      <td>40.1</td>\n      <td>41.5</td>\n      <td>43.0</td>\n      <td>38.5</td>\n      <td>48.4</td>\n      <td>34.0</td>\n      <td>38.0</td>\n      <td>...</td>\n      <td>35.0</td>\n      <td>0</td>\n      <td>0.5333</td>\n      <td>1.0</td>\n      <td>0.6683</td>\n      <td>0.45000</td>\n      <td>9.480</td>\n      <td>-26.2</td>\n      <td>-0.8</td>\n      <td>0.0</td>\n    </tr>\n    <tr>\n      <th>2</th>\n      <td>80</td>\n      <td>60.9</td>\n      <td>40.7</td>\n      <td>42.1</td>\n      <td>43.5</td>\n      <td>45.0</td>\n      <td>40.5</td>\n      <td>50.4</td>\n      <td>33.0</td>\n      <td>35.0</td>\n      <td>...</td>\n      <td>35.0</td>\n      <td>0.3048</td>\n      <td>0.4355</td>\n      <td>1.0</td>\n      <td>0.5176</td>\n      <td>0.38460</td>\n      <td>9.054</td>\n      <td>-22.5</td>\n      <td>-0.5</td>\n      <td>0.0</td>\n    </tr>\n    <tr>\n      <th>3</th>\n      <td>100</td>\n      <td>69.8</td>\n      <td>42.7</td>\n      <td>44.1</td>\n      <td>45.5</td>\n      <td>47.0</td>\n      <td>42.5</td>\n      <td>52.4</td>\n      <td>30.0</td>\n      <td>33.0</td>\n      <td>...</td>\n      <td>35.0</td>\n      <td>0.1521</td>\n      <td>0.3565</td>\n      <td>1.0</td>\n      <td>0.3999</td>\n      <td>0.13210</td>\n      <td>8.848</td>\n      <td>-19.1</td>\n      <td>-0.3</td>\n      <td>0.0</td>\n    </tr>\n    <tr>\n      <th>4</th>\n      <td>125</td>\n      <td>68.2</td>\n      <td>44.7</td>\n      <td>46.1</td>\n      <td>47.5</td>\n      <td>49.0</td>\n      <td>44.5</td>\n      <td>54.4</td>\n      <td>28.0</td>\n      <td>30.5</td>\n      <td>...</td>\n      <td>35.0</td>\n      <td>0.07568</td>\n      <td>0.2917</td>\n      <td>1.0</td>\n      <td>0.3090</td>\n      <td>0.04539</td>\n      <td>8.747</td>\n      <td>-16.1</td>\n      <td>-0.2</td>\n      <td>0.0</td>\n    </tr>\n  </tbody>\n</table>\n<p>5 rows × 38 columns</p>\n</div>"
     },
     "execution_count": 5,
     "metadata": {},
     "output_type": "execute_result"
    }
   ],
   "source": [
    "df = pd.read_csv(\"admClean.csv\")\n",
    "df.head()"
   ],
   "metadata": {
    "collapsed": false
   }
  },
  {
   "cell_type": "code",
   "execution_count": 6,
   "outputs": [
    {
     "name": "stdout",
     "output_type": "stream",
     "text": [
      "   M60 Tank idling at 30 meters Whisper  Normal  Raised  Loud  Shouted\n",
      "0                          53.6    36.7    38.1    39.5  41.0     36.5\n",
      "1                          57.3    38.7    40.1    41.5  43.0     38.5\n",
      "2                          60.9    40.7    42.1    43.5  45.0     40.5\n",
      "3                          69.8    42.7    44.1    45.5  47.0     42.5\n",
      "4                          68.2    44.7    46.1    47.5  49.0     44.5\n",
      "5                          69.6    46.7    48.1    49.5  51.0     46.5\n",
      "6                          59.0    47.7    51.1    50.6  54.4     53.3\n",
      "7                          56.7    48.1    52.4    56.6  59.2     60.1\n",
      "8                          55.1      48    52.6    57.2  62.4     65.1\n",
      "9                          57.4    49.7    54.3    58.8  63.0     67.1\n",
      "10                         56.0      49    54.9    60.8  65.5     69.9\n",
      "11                         54.9      47    53.7    60.4  67.2     72.9\n",
      "12                         51.0    42.9    51.0    59.0  66.7     74.1\n",
      "13                         48.9    39.8    48.7    57.5  65.8     75.0\n",
      "14                         46.7    38.7    47.6    56.5  65.1     74.2\n",
      "15                         45.0    37.4    45.8    54.3  63.4     73.3\n",
      "16                         42.9      36    44.0    52.0  61.0     71.0\n",
      "17                         40.7    31.6    40.8    50.0  58.6     68.4\n",
      "18                         37.9    31.6    40.2    48.8  56.8     66.8\n",
      "19                         35.9    31.5    39.0    46.4  55.1     64.1\n",
      "20                         33.9    29.8    35.9    42.1  49.0     58.9\n",
      "21                         32.7    29.2    34.2    39.3  45.5     55.1\n",
      "22                         31.0    29.9    33.8    37.7  44.1     53.4\n",
      "23                         29.4    27.9    31.8    35.7  42.1     51.4\n",
      "0        50\n",
      "1        63\n",
      "2        80\n",
      "3       100\n",
      "4       125\n",
      "5       160\n",
      "6       200\n",
      "7       250\n",
      "8       315\n",
      "9       400\n",
      "10      500\n",
      "11      630\n",
      "12      800\n",
      "13     1000\n",
      "14     1250\n",
      "15     1600\n",
      "16     2000\n",
      "17     2500\n",
      "18     3150\n",
      "19     4000\n",
      "20     5000\n",
      "21     6300\n",
      "22     8000\n",
      "23    10000\n",
      "Name: Freq Hz, dtype: object\n"
     ]
    }
   ],
   "source": [
    "feature_cols = ['M60 Tank idling at 30 meters','Whisper','Normal','Raised','Loud','Shouted']\n",
    "\n",
    "X = df[feature_cols]\n",
    "#X.drop(X.index[[24,25,26,27,28]])\n",
    "#X.drop(labels='MicDist',axis=0,index=25,columns=none,level=none,implace=False,errors='raise')\n",
    "\n",
    "y = df['Freq Hz']\n",
    "X = X.drop([24,25,26,27,28])\n",
    "y = y.drop([24,25,26,27,28])\n",
    "\n",
    "print(X)\n",
    "print(y)"
   ],
   "metadata": {
    "collapsed": false
   }
  },
  {
   "cell_type": "code",
   "execution_count": 7,
   "outputs": [
    {
     "name": "stdout",
     "output_type": "stream",
     "text": [
      "(9, 6)\n",
      "(9,)\n",
      "(15, 6)\n",
      "(15,)\n"
     ]
    }
   ],
   "source": [
    "# Randomly splitting the original dataset into training set and testing set:\n",
    "X_train, X_test, y_train, y_test = train_test_split(X, y, test_size=0.6, random_state=6)\n",
    "# print the size of the training set:\n",
    "print(X_train.shape)\n",
    "print(y_train.shape)\n",
    "\n",
    "# print the size of the testing set:\n",
    "print(X_test.shape)\n",
    "print(y_test.shape)"
   ],
   "metadata": {
    "collapsed": false
   }
  },
  {
   "cell_type": "code",
   "execution_count": null,
   "outputs": [],
   "source": [],
   "metadata": {
    "collapsed": false
   }
  }
 ],
 "metadata": {
  "kernelspec": {
   "display_name": "Python 3",
   "language": "python",
   "name": "python3"
  },
  "language_info": {
   "codemirror_mode": {
    "name": "ipython",
    "version": 2
   },
   "file_extension": ".py",
   "mimetype": "text/x-python",
   "name": "python",
   "nbconvert_exporter": "python",
   "pygments_lexer": "ipython2",
   "version": "2.7.6"
  }
 },
 "nbformat": 4,
 "nbformat_minor": 0
}
